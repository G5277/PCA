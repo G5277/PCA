{
  "nbformat": 4,
  "nbformat_minor": 0,
  "metadata": {
    "colab": {
      "provenance": [],
      "mount_file_id": "1Ro9SDf_aOXivB_AgE8D7Q4ClkH46rkdF",
      "authorship_tag": "ABX9TyOZZp1LaDMjqomDRsDCjP48",
      "include_colab_link": true
    },
    "kernelspec": {
      "name": "python3",
      "display_name": "Python 3"
    },
    "language_info": {
      "name": "python"
    }
  },
  "cells": [
    {
      "cell_type": "markdown",
      "metadata": {
        "id": "view-in-github",
        "colab_type": "text"
      },
      "source": [
        "<a href=\"https://colab.research.google.com/github/G5277/PCA/blob/main/PCA.ipynb\" target=\"_parent\"><img src=\"https://colab.research.google.com/assets/colab-badge.svg\" alt=\"Open In Colab\"/></a>"
      ]
    },
    {
      "cell_type": "code",
      "execution_count": null,
      "metadata": {
        "id": "WoMhYJ04G7nr",
        "colab": {
          "base_uri": "https://localhost:8080/",
          "height": 90
        },
        "outputId": "0f8d648b-bfb4-4bb0-9265-56e84b60d7da"
      },
      "outputs": [
        {
          "output_type": "display_data",
          "data": {
            "text/plain": [
              "<IPython.core.display.HTML object>"
            ],
            "text/html": [
              "\n",
              "     <input type=\"file\" id=\"files-aacc71a7-af3e-4874-8232-5eca3810437d\" name=\"files[]\" multiple disabled\n",
              "        style=\"border:none\" />\n",
              "     <output id=\"result-aacc71a7-af3e-4874-8232-5eca3810437d\">\n",
              "      Upload widget is only available when the cell has been executed in the\n",
              "      current browser session. Please rerun this cell to enable.\n",
              "      </output>\n",
              "      <script>// Copyright 2017 Google LLC\n",
              "//\n",
              "// Licensed under the Apache License, Version 2.0 (the \"License\");\n",
              "// you may not use this file except in compliance with the License.\n",
              "// You may obtain a copy of the License at\n",
              "//\n",
              "//      http://www.apache.org/licenses/LICENSE-2.0\n",
              "//\n",
              "// Unless required by applicable law or agreed to in writing, software\n",
              "// distributed under the License is distributed on an \"AS IS\" BASIS,\n",
              "// WITHOUT WARRANTIES OR CONDITIONS OF ANY KIND, either express or implied.\n",
              "// See the License for the specific language governing permissions and\n",
              "// limitations under the License.\n",
              "\n",
              "/**\n",
              " * @fileoverview Helpers for google.colab Python module.\n",
              " */\n",
              "(function(scope) {\n",
              "function span(text, styleAttributes = {}) {\n",
              "  const element = document.createElement('span');\n",
              "  element.textContent = text;\n",
              "  for (const key of Object.keys(styleAttributes)) {\n",
              "    element.style[key] = styleAttributes[key];\n",
              "  }\n",
              "  return element;\n",
              "}\n",
              "\n",
              "// Max number of bytes which will be uploaded at a time.\n",
              "const MAX_PAYLOAD_SIZE = 100 * 1024;\n",
              "\n",
              "function _uploadFiles(inputId, outputId) {\n",
              "  const steps = uploadFilesStep(inputId, outputId);\n",
              "  const outputElement = document.getElementById(outputId);\n",
              "  // Cache steps on the outputElement to make it available for the next call\n",
              "  // to uploadFilesContinue from Python.\n",
              "  outputElement.steps = steps;\n",
              "\n",
              "  return _uploadFilesContinue(outputId);\n",
              "}\n",
              "\n",
              "// This is roughly an async generator (not supported in the browser yet),\n",
              "// where there are multiple asynchronous steps and the Python side is going\n",
              "// to poll for completion of each step.\n",
              "// This uses a Promise to block the python side on completion of each step,\n",
              "// then passes the result of the previous step as the input to the next step.\n",
              "function _uploadFilesContinue(outputId) {\n",
              "  const outputElement = document.getElementById(outputId);\n",
              "  const steps = outputElement.steps;\n",
              "\n",
              "  const next = steps.next(outputElement.lastPromiseValue);\n",
              "  return Promise.resolve(next.value.promise).then((value) => {\n",
              "    // Cache the last promise value to make it available to the next\n",
              "    // step of the generator.\n",
              "    outputElement.lastPromiseValue = value;\n",
              "    return next.value.response;\n",
              "  });\n",
              "}\n",
              "\n",
              "/**\n",
              " * Generator function which is called between each async step of the upload\n",
              " * process.\n",
              " * @param {string} inputId Element ID of the input file picker element.\n",
              " * @param {string} outputId Element ID of the output display.\n",
              " * @return {!Iterable<!Object>} Iterable of next steps.\n",
              " */\n",
              "function* uploadFilesStep(inputId, outputId) {\n",
              "  const inputElement = document.getElementById(inputId);\n",
              "  inputElement.disabled = false;\n",
              "\n",
              "  const outputElement = document.getElementById(outputId);\n",
              "  outputElement.innerHTML = '';\n",
              "\n",
              "  const pickedPromise = new Promise((resolve) => {\n",
              "    inputElement.addEventListener('change', (e) => {\n",
              "      resolve(e.target.files);\n",
              "    });\n",
              "  });\n",
              "\n",
              "  const cancel = document.createElement('button');\n",
              "  inputElement.parentElement.appendChild(cancel);\n",
              "  cancel.textContent = 'Cancel upload';\n",
              "  const cancelPromise = new Promise((resolve) => {\n",
              "    cancel.onclick = () => {\n",
              "      resolve(null);\n",
              "    };\n",
              "  });\n",
              "\n",
              "  // Wait for the user to pick the files.\n",
              "  const files = yield {\n",
              "    promise: Promise.race([pickedPromise, cancelPromise]),\n",
              "    response: {\n",
              "      action: 'starting',\n",
              "    }\n",
              "  };\n",
              "\n",
              "  cancel.remove();\n",
              "\n",
              "  // Disable the input element since further picks are not allowed.\n",
              "  inputElement.disabled = true;\n",
              "\n",
              "  if (!files) {\n",
              "    return {\n",
              "      response: {\n",
              "        action: 'complete',\n",
              "      }\n",
              "    };\n",
              "  }\n",
              "\n",
              "  for (const file of files) {\n",
              "    const li = document.createElement('li');\n",
              "    li.append(span(file.name, {fontWeight: 'bold'}));\n",
              "    li.append(span(\n",
              "        `(${file.type || 'n/a'}) - ${file.size} bytes, ` +\n",
              "        `last modified: ${\n",
              "            file.lastModifiedDate ? file.lastModifiedDate.toLocaleDateString() :\n",
              "                                    'n/a'} - `));\n",
              "    const percent = span('0% done');\n",
              "    li.appendChild(percent);\n",
              "\n",
              "    outputElement.appendChild(li);\n",
              "\n",
              "    const fileDataPromise = new Promise((resolve) => {\n",
              "      const reader = new FileReader();\n",
              "      reader.onload = (e) => {\n",
              "        resolve(e.target.result);\n",
              "      };\n",
              "      reader.readAsArrayBuffer(file);\n",
              "    });\n",
              "    // Wait for the data to be ready.\n",
              "    let fileData = yield {\n",
              "      promise: fileDataPromise,\n",
              "      response: {\n",
              "        action: 'continue',\n",
              "      }\n",
              "    };\n",
              "\n",
              "    // Use a chunked sending to avoid message size limits. See b/62115660.\n",
              "    let position = 0;\n",
              "    do {\n",
              "      const length = Math.min(fileData.byteLength - position, MAX_PAYLOAD_SIZE);\n",
              "      const chunk = new Uint8Array(fileData, position, length);\n",
              "      position += length;\n",
              "\n",
              "      const base64 = btoa(String.fromCharCode.apply(null, chunk));\n",
              "      yield {\n",
              "        response: {\n",
              "          action: 'append',\n",
              "          file: file.name,\n",
              "          data: base64,\n",
              "        },\n",
              "      };\n",
              "\n",
              "      let percentDone = fileData.byteLength === 0 ?\n",
              "          100 :\n",
              "          Math.round((position / fileData.byteLength) * 100);\n",
              "      percent.textContent = `${percentDone}% done`;\n",
              "\n",
              "    } while (position < fileData.byteLength);\n",
              "  }\n",
              "\n",
              "  // All done.\n",
              "  yield {\n",
              "    response: {\n",
              "      action: 'complete',\n",
              "    }\n",
              "  };\n",
              "}\n",
              "\n",
              "scope.google = scope.google || {};\n",
              "scope.google.colab = scope.google.colab || {};\n",
              "scope.google.colab._files = {\n",
              "  _uploadFiles,\n",
              "  _uploadFilesContinue,\n",
              "};\n",
              "})(self);\n",
              "</script> "
            ]
          },
          "metadata": {}
        },
        {
          "output_type": "stream",
          "name": "stdout",
          "text": [
            "Saving kaggle (1).json to kaggle (1) (1).json\n"
          ]
        },
        {
          "output_type": "execute_result",
          "data": {
            "text/plain": [
              "{'kaggle (1) (1).json': b'{\"username\":\"gazal5277\",\"key\":\"adc0e023d3d4bb8d82c599d4a42fc68b\"}'}"
            ]
          },
          "metadata": {},
          "execution_count": 1
        }
      ],
      "source": [
        "from google.colab import files\n",
        "files.upload()"
      ]
    },
    {
      "cell_type": "code",
      "source": [
        "!mkdir -p ~/.kaggle\n",
        "!cp kaggle.json ~/.kaggle/\n",
        "!chmod 600 ~/.kaggle/kaggle.json"
      ],
      "metadata": {
        "id": "mCZvHlnSP_FA"
      },
      "execution_count": null,
      "outputs": []
    },
    {
      "cell_type": "code",
      "source": [
        "!kaggle datasets download -d jahias/microsoft-adventure-works-cycles-customer-data"
      ],
      "metadata": {
        "colab": {
          "base_uri": "https://localhost:8080/"
        },
        "id": "jCsRFTNlQH2p",
        "outputId": "625f808e-0c5a-43eb-f7b0-0989e2301d9d"
      },
      "execution_count": null,
      "outputs": [
        {
          "output_type": "stream",
          "name": "stdout",
          "text": [
            "Dataset URL: https://www.kaggle.com/datasets/jahias/microsoft-adventure-works-cycles-customer-data\n",
            "License(s): CC0-1.0\n",
            "Downloading microsoft-adventure-works-cycles-customer-data.zip to /content\n",
            "100% 939k/939k [00:00<00:00, 1.39MB/s]\n",
            "100% 939k/939k [00:00<00:00, 1.38MB/s]\n"
          ]
        }
      ]
    },
    {
      "cell_type": "code",
      "source": [
        "!unzip microsoft-adventure-works-cycles-customer-data.zip"
      ],
      "metadata": {
        "colab": {
          "base_uri": "https://localhost:8080/"
        },
        "id": "gstedNFGQdUm",
        "outputId": "5acec923-9b52-4fd3-bea9-3b280e7b82ab"
      },
      "execution_count": null,
      "outputs": [
        {
          "output_type": "stream",
          "name": "stdout",
          "text": [
            "Archive:  microsoft-adventure-works-cycles-customer-data.zip\n",
            "  inflating: AWCustomers.csv         \n",
            "  inflating: AWSales.csv             \n",
            "  inflating: AWTest-Classification.csv  \n",
            "  inflating: AWTest-Regression.csv   \n"
          ]
        }
      ]
    },
    {
      "cell_type": "code",
      "source": [
        "import pandas as pd\n",
        "df = pd.read_csv('/content/AWCustomers.csv')\n",
        "df.head()"
      ],
      "metadata": {
        "colab": {
          "base_uri": "https://localhost:8080/",
          "height": 342
        },
        "id": "9rbJgeCKQk9m",
        "outputId": "6dd43d5b-532c-4f8b-9f14-0fddf93bffbc"
      },
      "execution_count": null,
      "outputs": [
        {
          "output_type": "execute_result",
          "data": {
            "text/plain": [
              "   CustomerID Title FirstName MiddleName  LastName Suffix  \\\n",
              "0       21173   NaN      Chad          C      Yuan    NaN   \n",
              "1       13249   NaN      Ryan        NaN     Perry    NaN   \n",
              "2       29350   NaN     Julia        NaN  Thompson    NaN   \n",
              "3       13503   NaN  Theodore        NaN     Gomez    NaN   \n",
              "4       22803   NaN  Marshall          J      Shan    NaN   \n",
              "\n",
              "             AddressLine1 AddressLine2         City    StateProvinceName  ...  \\\n",
              "0      7090 C. Mount Hood          NaN   Wollongong      New South Wales  ...   \n",
              "1     3651 Willow Lake Rd          NaN      Shawnee     British Columbia  ...   \n",
              "2  1774 Tice Valley Blvd.          NaN  West Covina           California  ...   \n",
              "3         2103 Baldwin Dr          NaN    Liverpool              England  ...   \n",
              "4         Am Gallberg 234          NaN        Werne  Nordrhein-Westfalen  ...   \n",
              "\n",
              "         Education      Occupation Gender MaritalStatus HomeOwnerFlag  \\\n",
              "0        Bachelors        Clerical      M             M             1   \n",
              "1  Partial College        Clerical      M             M             1   \n",
              "2        Bachelors        Clerical      F             S             0   \n",
              "3  Partial College  Skilled Manual      M             M             1   \n",
              "4  Partial College  Skilled Manual      M             S             1   \n",
              "\n",
              "  NumberCarsOwned NumberChildrenAtHome TotalChildren  YearlyIncome  \\\n",
              "0               3                    0             1         81916   \n",
              "1               2                    1             2         81076   \n",
              "2               3                    0             0         86387   \n",
              "3               2                    1             2         61481   \n",
              "4               1                    0             0         51804   \n",
              "\n",
              "   LastUpdated  \n",
              "0   2017-03-06  \n",
              "1   2017-03-06  \n",
              "2   2017-03-06  \n",
              "3   2017-03-06  \n",
              "4   2017-03-06  \n",
              "\n",
              "[5 rows x 24 columns]"
            ],
            "text/html": [
              "\n",
              "  <div id=\"df-30cf5e15-b4cf-4332-9cdc-39e848ff46d9\" class=\"colab-df-container\">\n",
              "    <div>\n",
              "<style scoped>\n",
              "    .dataframe tbody tr th:only-of-type {\n",
              "        vertical-align: middle;\n",
              "    }\n",
              "\n",
              "    .dataframe tbody tr th {\n",
              "        vertical-align: top;\n",
              "    }\n",
              "\n",
              "    .dataframe thead th {\n",
              "        text-align: right;\n",
              "    }\n",
              "</style>\n",
              "<table border=\"1\" class=\"dataframe\">\n",
              "  <thead>\n",
              "    <tr style=\"text-align: right;\">\n",
              "      <th></th>\n",
              "      <th>CustomerID</th>\n",
              "      <th>Title</th>\n",
              "      <th>FirstName</th>\n",
              "      <th>MiddleName</th>\n",
              "      <th>LastName</th>\n",
              "      <th>Suffix</th>\n",
              "      <th>AddressLine1</th>\n",
              "      <th>AddressLine2</th>\n",
              "      <th>City</th>\n",
              "      <th>StateProvinceName</th>\n",
              "      <th>...</th>\n",
              "      <th>Education</th>\n",
              "      <th>Occupation</th>\n",
              "      <th>Gender</th>\n",
              "      <th>MaritalStatus</th>\n",
              "      <th>HomeOwnerFlag</th>\n",
              "      <th>NumberCarsOwned</th>\n",
              "      <th>NumberChildrenAtHome</th>\n",
              "      <th>TotalChildren</th>\n",
              "      <th>YearlyIncome</th>\n",
              "      <th>LastUpdated</th>\n",
              "    </tr>\n",
              "  </thead>\n",
              "  <tbody>\n",
              "    <tr>\n",
              "      <th>0</th>\n",
              "      <td>21173</td>\n",
              "      <td>NaN</td>\n",
              "      <td>Chad</td>\n",
              "      <td>C</td>\n",
              "      <td>Yuan</td>\n",
              "      <td>NaN</td>\n",
              "      <td>7090 C. Mount Hood</td>\n",
              "      <td>NaN</td>\n",
              "      <td>Wollongong</td>\n",
              "      <td>New South Wales</td>\n",
              "      <td>...</td>\n",
              "      <td>Bachelors</td>\n",
              "      <td>Clerical</td>\n",
              "      <td>M</td>\n",
              "      <td>M</td>\n",
              "      <td>1</td>\n",
              "      <td>3</td>\n",
              "      <td>0</td>\n",
              "      <td>1</td>\n",
              "      <td>81916</td>\n",
              "      <td>2017-03-06</td>\n",
              "    </tr>\n",
              "    <tr>\n",
              "      <th>1</th>\n",
              "      <td>13249</td>\n",
              "      <td>NaN</td>\n",
              "      <td>Ryan</td>\n",
              "      <td>NaN</td>\n",
              "      <td>Perry</td>\n",
              "      <td>NaN</td>\n",
              "      <td>3651 Willow Lake Rd</td>\n",
              "      <td>NaN</td>\n",
              "      <td>Shawnee</td>\n",
              "      <td>British Columbia</td>\n",
              "      <td>...</td>\n",
              "      <td>Partial College</td>\n",
              "      <td>Clerical</td>\n",
              "      <td>M</td>\n",
              "      <td>M</td>\n",
              "      <td>1</td>\n",
              "      <td>2</td>\n",
              "      <td>1</td>\n",
              "      <td>2</td>\n",
              "      <td>81076</td>\n",
              "      <td>2017-03-06</td>\n",
              "    </tr>\n",
              "    <tr>\n",
              "      <th>2</th>\n",
              "      <td>29350</td>\n",
              "      <td>NaN</td>\n",
              "      <td>Julia</td>\n",
              "      <td>NaN</td>\n",
              "      <td>Thompson</td>\n",
              "      <td>NaN</td>\n",
              "      <td>1774 Tice Valley Blvd.</td>\n",
              "      <td>NaN</td>\n",
              "      <td>West Covina</td>\n",
              "      <td>California</td>\n",
              "      <td>...</td>\n",
              "      <td>Bachelors</td>\n",
              "      <td>Clerical</td>\n",
              "      <td>F</td>\n",
              "      <td>S</td>\n",
              "      <td>0</td>\n",
              "      <td>3</td>\n",
              "      <td>0</td>\n",
              "      <td>0</td>\n",
              "      <td>86387</td>\n",
              "      <td>2017-03-06</td>\n",
              "    </tr>\n",
              "    <tr>\n",
              "      <th>3</th>\n",
              "      <td>13503</td>\n",
              "      <td>NaN</td>\n",
              "      <td>Theodore</td>\n",
              "      <td>NaN</td>\n",
              "      <td>Gomez</td>\n",
              "      <td>NaN</td>\n",
              "      <td>2103 Baldwin Dr</td>\n",
              "      <td>NaN</td>\n",
              "      <td>Liverpool</td>\n",
              "      <td>England</td>\n",
              "      <td>...</td>\n",
              "      <td>Partial College</td>\n",
              "      <td>Skilled Manual</td>\n",
              "      <td>M</td>\n",
              "      <td>M</td>\n",
              "      <td>1</td>\n",
              "      <td>2</td>\n",
              "      <td>1</td>\n",
              "      <td>2</td>\n",
              "      <td>61481</td>\n",
              "      <td>2017-03-06</td>\n",
              "    </tr>\n",
              "    <tr>\n",
              "      <th>4</th>\n",
              "      <td>22803</td>\n",
              "      <td>NaN</td>\n",
              "      <td>Marshall</td>\n",
              "      <td>J</td>\n",
              "      <td>Shan</td>\n",
              "      <td>NaN</td>\n",
              "      <td>Am Gallberg 234</td>\n",
              "      <td>NaN</td>\n",
              "      <td>Werne</td>\n",
              "      <td>Nordrhein-Westfalen</td>\n",
              "      <td>...</td>\n",
              "      <td>Partial College</td>\n",
              "      <td>Skilled Manual</td>\n",
              "      <td>M</td>\n",
              "      <td>S</td>\n",
              "      <td>1</td>\n",
              "      <td>1</td>\n",
              "      <td>0</td>\n",
              "      <td>0</td>\n",
              "      <td>51804</td>\n",
              "      <td>2017-03-06</td>\n",
              "    </tr>\n",
              "  </tbody>\n",
              "</table>\n",
              "<p>5 rows × 24 columns</p>\n",
              "</div>\n",
              "    <div class=\"colab-df-buttons\">\n",
              "\n",
              "  <div class=\"colab-df-container\">\n",
              "    <button class=\"colab-df-convert\" onclick=\"convertToInteractive('df-30cf5e15-b4cf-4332-9cdc-39e848ff46d9')\"\n",
              "            title=\"Convert this dataframe to an interactive table.\"\n",
              "            style=\"display:none;\">\n",
              "\n",
              "  <svg xmlns=\"http://www.w3.org/2000/svg\" height=\"24px\" viewBox=\"0 -960 960 960\">\n",
              "    <path d=\"M120-120v-720h720v720H120Zm60-500h600v-160H180v160Zm220 220h160v-160H400v160Zm0 220h160v-160H400v160ZM180-400h160v-160H180v160Zm440 0h160v-160H620v160ZM180-180h160v-160H180v160Zm440 0h160v-160H620v160Z\"/>\n",
              "  </svg>\n",
              "    </button>\n",
              "\n",
              "  <style>\n",
              "    .colab-df-container {\n",
              "      display:flex;\n",
              "      gap: 12px;\n",
              "    }\n",
              "\n",
              "    .colab-df-convert {\n",
              "      background-color: #E8F0FE;\n",
              "      border: none;\n",
              "      border-radius: 50%;\n",
              "      cursor: pointer;\n",
              "      display: none;\n",
              "      fill: #1967D2;\n",
              "      height: 32px;\n",
              "      padding: 0 0 0 0;\n",
              "      width: 32px;\n",
              "    }\n",
              "\n",
              "    .colab-df-convert:hover {\n",
              "      background-color: #E2EBFA;\n",
              "      box-shadow: 0px 1px 2px rgba(60, 64, 67, 0.3), 0px 1px 3px 1px rgba(60, 64, 67, 0.15);\n",
              "      fill: #174EA6;\n",
              "    }\n",
              "\n",
              "    .colab-df-buttons div {\n",
              "      margin-bottom: 4px;\n",
              "    }\n",
              "\n",
              "    [theme=dark] .colab-df-convert {\n",
              "      background-color: #3B4455;\n",
              "      fill: #D2E3FC;\n",
              "    }\n",
              "\n",
              "    [theme=dark] .colab-df-convert:hover {\n",
              "      background-color: #434B5C;\n",
              "      box-shadow: 0px 1px 3px 1px rgba(0, 0, 0, 0.15);\n",
              "      filter: drop-shadow(0px 1px 2px rgba(0, 0, 0, 0.3));\n",
              "      fill: #FFFFFF;\n",
              "    }\n",
              "  </style>\n",
              "\n",
              "    <script>\n",
              "      const buttonEl =\n",
              "        document.querySelector('#df-30cf5e15-b4cf-4332-9cdc-39e848ff46d9 button.colab-df-convert');\n",
              "      buttonEl.style.display =\n",
              "        google.colab.kernel.accessAllowed ? 'block' : 'none';\n",
              "\n",
              "      async function convertToInteractive(key) {\n",
              "        const element = document.querySelector('#df-30cf5e15-b4cf-4332-9cdc-39e848ff46d9');\n",
              "        const dataTable =\n",
              "          await google.colab.kernel.invokeFunction('convertToInteractive',\n",
              "                                                    [key], {});\n",
              "        if (!dataTable) return;\n",
              "\n",
              "        const docLinkHtml = 'Like what you see? Visit the ' +\n",
              "          '<a target=\"_blank\" href=https://colab.research.google.com/notebooks/data_table.ipynb>data table notebook</a>'\n",
              "          + ' to learn more about interactive tables.';\n",
              "        element.innerHTML = '';\n",
              "        dataTable['output_type'] = 'display_data';\n",
              "        await google.colab.output.renderOutput(dataTable, element);\n",
              "        const docLink = document.createElement('div');\n",
              "        docLink.innerHTML = docLinkHtml;\n",
              "        element.appendChild(docLink);\n",
              "      }\n",
              "    </script>\n",
              "  </div>\n",
              "\n",
              "\n",
              "<div id=\"df-b53ccc31-570b-4331-921b-3d64dbf0fbfc\">\n",
              "  <button class=\"colab-df-quickchart\" onclick=\"quickchart('df-b53ccc31-570b-4331-921b-3d64dbf0fbfc')\"\n",
              "            title=\"Suggest charts\"\n",
              "            style=\"display:none;\">\n",
              "\n",
              "<svg xmlns=\"http://www.w3.org/2000/svg\" height=\"24px\"viewBox=\"0 0 24 24\"\n",
              "     width=\"24px\">\n",
              "    <g>\n",
              "        <path d=\"M19 3H5c-1.1 0-2 .9-2 2v14c0 1.1.9 2 2 2h14c1.1 0 2-.9 2-2V5c0-1.1-.9-2-2-2zM9 17H7v-7h2v7zm4 0h-2V7h2v10zm4 0h-2v-4h2v4z\"/>\n",
              "    </g>\n",
              "</svg>\n",
              "  </button>\n",
              "\n",
              "<style>\n",
              "  .colab-df-quickchart {\n",
              "      --bg-color: #E8F0FE;\n",
              "      --fill-color: #1967D2;\n",
              "      --hover-bg-color: #E2EBFA;\n",
              "      --hover-fill-color: #174EA6;\n",
              "      --disabled-fill-color: #AAA;\n",
              "      --disabled-bg-color: #DDD;\n",
              "  }\n",
              "\n",
              "  [theme=dark] .colab-df-quickchart {\n",
              "      --bg-color: #3B4455;\n",
              "      --fill-color: #D2E3FC;\n",
              "      --hover-bg-color: #434B5C;\n",
              "      --hover-fill-color: #FFFFFF;\n",
              "      --disabled-bg-color: #3B4455;\n",
              "      --disabled-fill-color: #666;\n",
              "  }\n",
              "\n",
              "  .colab-df-quickchart {\n",
              "    background-color: var(--bg-color);\n",
              "    border: none;\n",
              "    border-radius: 50%;\n",
              "    cursor: pointer;\n",
              "    display: none;\n",
              "    fill: var(--fill-color);\n",
              "    height: 32px;\n",
              "    padding: 0;\n",
              "    width: 32px;\n",
              "  }\n",
              "\n",
              "  .colab-df-quickchart:hover {\n",
              "    background-color: var(--hover-bg-color);\n",
              "    box-shadow: 0 1px 2px rgba(60, 64, 67, 0.3), 0 1px 3px 1px rgba(60, 64, 67, 0.15);\n",
              "    fill: var(--button-hover-fill-color);\n",
              "  }\n",
              "\n",
              "  .colab-df-quickchart-complete:disabled,\n",
              "  .colab-df-quickchart-complete:disabled:hover {\n",
              "    background-color: var(--disabled-bg-color);\n",
              "    fill: var(--disabled-fill-color);\n",
              "    box-shadow: none;\n",
              "  }\n",
              "\n",
              "  .colab-df-spinner {\n",
              "    border: 2px solid var(--fill-color);\n",
              "    border-color: transparent;\n",
              "    border-bottom-color: var(--fill-color);\n",
              "    animation:\n",
              "      spin 1s steps(1) infinite;\n",
              "  }\n",
              "\n",
              "  @keyframes spin {\n",
              "    0% {\n",
              "      border-color: transparent;\n",
              "      border-bottom-color: var(--fill-color);\n",
              "      border-left-color: var(--fill-color);\n",
              "    }\n",
              "    20% {\n",
              "      border-color: transparent;\n",
              "      border-left-color: var(--fill-color);\n",
              "      border-top-color: var(--fill-color);\n",
              "    }\n",
              "    30% {\n",
              "      border-color: transparent;\n",
              "      border-left-color: var(--fill-color);\n",
              "      border-top-color: var(--fill-color);\n",
              "      border-right-color: var(--fill-color);\n",
              "    }\n",
              "    40% {\n",
              "      border-color: transparent;\n",
              "      border-right-color: var(--fill-color);\n",
              "      border-top-color: var(--fill-color);\n",
              "    }\n",
              "    60% {\n",
              "      border-color: transparent;\n",
              "      border-right-color: var(--fill-color);\n",
              "    }\n",
              "    80% {\n",
              "      border-color: transparent;\n",
              "      border-right-color: var(--fill-color);\n",
              "      border-bottom-color: var(--fill-color);\n",
              "    }\n",
              "    90% {\n",
              "      border-color: transparent;\n",
              "      border-bottom-color: var(--fill-color);\n",
              "    }\n",
              "  }\n",
              "</style>\n",
              "\n",
              "  <script>\n",
              "    async function quickchart(key) {\n",
              "      const quickchartButtonEl =\n",
              "        document.querySelector('#' + key + ' button');\n",
              "      quickchartButtonEl.disabled = true;  // To prevent multiple clicks.\n",
              "      quickchartButtonEl.classList.add('colab-df-spinner');\n",
              "      try {\n",
              "        const charts = await google.colab.kernel.invokeFunction(\n",
              "            'suggestCharts', [key], {});\n",
              "      } catch (error) {\n",
              "        console.error('Error during call to suggestCharts:', error);\n",
              "      }\n",
              "      quickchartButtonEl.classList.remove('colab-df-spinner');\n",
              "      quickchartButtonEl.classList.add('colab-df-quickchart-complete');\n",
              "    }\n",
              "    (() => {\n",
              "      let quickchartButtonEl =\n",
              "        document.querySelector('#df-b53ccc31-570b-4331-921b-3d64dbf0fbfc button');\n",
              "      quickchartButtonEl.style.display =\n",
              "        google.colab.kernel.accessAllowed ? 'block' : 'none';\n",
              "    })();\n",
              "  </script>\n",
              "</div>\n",
              "\n",
              "    </div>\n",
              "  </div>\n"
            ],
            "application/vnd.google.colaboratory.intrinsic+json": {
              "type": "dataframe",
              "variable_name": "df"
            }
          },
          "metadata": {},
          "execution_count": 12
        }
      ]
    },
    {
      "cell_type": "code",
      "source": [
        "threshold = len(df) * 0.5\n",
        "df.dropna(thresh=threshold, axis=1, inplace=True)"
      ],
      "metadata": {
        "id": "Iu3UKADtSCid"
      },
      "execution_count": null,
      "outputs": []
    },
    {
      "cell_type": "code",
      "source": [
        "?df.dropna"
      ],
      "metadata": {
        "id": "an0-I3TYTmqh"
      },
      "execution_count": null,
      "outputs": []
    },
    {
      "cell_type": "code",
      "source": [
        "print(df.info())"
      ],
      "metadata": {
        "colab": {
          "base_uri": "https://localhost:8080/"
        },
        "id": "3jEFHIWsSGX9",
        "outputId": "9dcdc294-af84-429e-a7d9-84f2d3fe0f5a"
      },
      "execution_count": null,
      "outputs": [
        {
          "output_type": "stream",
          "name": "stdout",
          "text": [
            "<class 'pandas.core.frame.DataFrame'>\n",
            "RangeIndex: 18361 entries, 0 to 18360\n",
            "Data columns (total 21 columns):\n",
            " #   Column                Non-Null Count  Dtype \n",
            "---  ------                --------------  ----- \n",
            " 0   CustomerID            18361 non-null  int64 \n",
            " 1   FirstName             18361 non-null  object\n",
            " 2   MiddleName            10572 non-null  object\n",
            " 3   LastName              18361 non-null  object\n",
            " 4   AddressLine1          18361 non-null  object\n",
            " 5   City                  18361 non-null  object\n",
            " 6   StateProvinceName     18361 non-null  object\n",
            " 7   CountryRegionName     18361 non-null  object\n",
            " 8   PostalCode            18361 non-null  object\n",
            " 9   PhoneNumber           18361 non-null  object\n",
            " 10  BirthDate             18361 non-null  object\n",
            " 11  Education             18361 non-null  object\n",
            " 12  Occupation            18361 non-null  object\n",
            " 13  Gender                18361 non-null  object\n",
            " 14  MaritalStatus         18361 non-null  object\n",
            " 15  HomeOwnerFlag         18361 non-null  int64 \n",
            " 16  NumberCarsOwned       18361 non-null  int64 \n",
            " 17  NumberChildrenAtHome  18361 non-null  int64 \n",
            " 18  TotalChildren         18361 non-null  int64 \n",
            " 19  YearlyIncome          18361 non-null  int64 \n",
            " 20  LastUpdated           18361 non-null  object\n",
            "dtypes: int64(6), object(15)\n",
            "memory usage: 2.9+ MB\n",
            "None\n"
          ]
        }
      ]
    },
    {
      "cell_type": "code",
      "source": [
        "# Fill missing numerical values with the mean\n",
        "numerical_cols = df.select_dtypes(include=['float64', 'int64']).columns\n",
        "df[numerical_cols] = df[numerical_cols].fillna(df[numerical_cols].mean())\n",
        "\n",
        "# Fill missing categorical values with the mode\n",
        "categorical_cols = df.select_dtypes(include=['object']).columns\n",
        "for col in categorical_cols:\n",
        "    df[col] = df[col].fillna(df[col].mode()[0])"
      ],
      "metadata": {
        "id": "oiCsgMUWSPn_"
      },
      "execution_count": null,
      "outputs": []
    },
    {
      "cell_type": "code",
      "source": [
        "print(df.info())"
      ],
      "metadata": {
        "colab": {
          "base_uri": "https://localhost:8080/"
        },
        "id": "dTfxH00xSRi4",
        "outputId": "4b027510-1270-4d78-b425-0d0d5216091c"
      },
      "execution_count": null,
      "outputs": [
        {
          "output_type": "stream",
          "name": "stdout",
          "text": [
            "<class 'pandas.core.frame.DataFrame'>\n",
            "RangeIndex: 18361 entries, 0 to 18360\n",
            "Data columns (total 21 columns):\n",
            " #   Column                Non-Null Count  Dtype \n",
            "---  ------                --------------  ----- \n",
            " 0   CustomerID            18361 non-null  int64 \n",
            " 1   FirstName             18361 non-null  object\n",
            " 2   MiddleName            18361 non-null  object\n",
            " 3   LastName              18361 non-null  object\n",
            " 4   AddressLine1          18361 non-null  object\n",
            " 5   City                  18361 non-null  object\n",
            " 6   StateProvinceName     18361 non-null  object\n",
            " 7   CountryRegionName     18361 non-null  object\n",
            " 8   PostalCode            18361 non-null  object\n",
            " 9   PhoneNumber           18361 non-null  object\n",
            " 10  BirthDate             18361 non-null  object\n",
            " 11  Education             18361 non-null  object\n",
            " 12  Occupation            18361 non-null  object\n",
            " 13  Gender                18361 non-null  object\n",
            " 14  MaritalStatus         18361 non-null  object\n",
            " 15  HomeOwnerFlag         18361 non-null  int64 \n",
            " 16  NumberCarsOwned       18361 non-null  int64 \n",
            " 17  NumberChildrenAtHome  18361 non-null  int64 \n",
            " 18  TotalChildren         18361 non-null  int64 \n",
            " 19  YearlyIncome          18361 non-null  int64 \n",
            " 20  LastUpdated           18361 non-null  object\n",
            "dtypes: int64(6), object(15)\n",
            "memory usage: 2.9+ MB\n",
            "None\n"
          ]
        }
      ]
    },
    {
      "cell_type": "code",
      "source": [
        "print(df.head())"
      ],
      "metadata": {
        "colab": {
          "base_uri": "https://localhost:8080/"
        },
        "id": "Fc6EaqcoUXMp",
        "outputId": "019b798b-0f6b-41e5-8fca-31f27939baaa"
      },
      "execution_count": null,
      "outputs": [
        {
          "output_type": "stream",
          "name": "stdout",
          "text": [
            "  CountryRegionName PostalCode          PhoneNumber   BirthDate  \\\n",
            "0         Australia       2500  1 (11) 500 555-0115  1987-11-13   \n",
            "1            Canada    V9B 2C3         787-555-0136  1972-07-21   \n",
            "2     United States      91791         120-555-0111  1985-11-09   \n",
            "3    United Kingdom     L4 4HB  1 (11) 500 555-0167  1977-10-18   \n",
            "4           Germany      59368  1 (11) 500 555-0113  1975-02-05   \n",
            "\n",
            "         Education    Gender  HomeOwnerFlag  NumberCarsOwned  \\\n",
            "0        Bachelors  0.988466       0.798603         1.892524   \n",
            "1  Partial College  0.988466       0.798603         0.798389   \n",
            "2        Bachelors -1.011669      -1.252187         1.892524   \n",
            "3  Partial College  0.988466       0.798603         0.798389   \n",
            "4  Partial College  0.988466       0.798603        -0.295746   \n",
            "\n",
            "   NumberChildrenAtHome  TotalChildren  YearlyIncome  Occupation_Clerical  \\\n",
            "0             -0.594371       0.161342      0.298555                 True   \n",
            "1              1.163279       1.239753      0.271180                 True   \n",
            "2             -0.594371      -0.917069      0.444261                 True   \n",
            "3              1.163279       1.239753     -0.367401                False   \n",
            "4             -0.594371      -0.917069     -0.682765                False   \n",
            "\n",
            "   Occupation_Management  Occupation_Manual  Occupation_Professional  \\\n",
            "0                  False              False                    False   \n",
            "1                  False              False                    False   \n",
            "2                  False              False                    False   \n",
            "3                  False              False                    False   \n",
            "4                  False              False                    False   \n",
            "\n",
            "   Occupation_Skilled Manual  MaritalStatus_M  MaritalStatus_S  \n",
            "0                      False             True            False  \n",
            "1                      False             True            False  \n",
            "2                      False            False             True  \n",
            "3                       True             True            False  \n",
            "4                       True            False             True  \n"
          ]
        }
      ]
    },
    {
      "cell_type": "code",
      "source": [
        "from sklearn.preprocessing import LabelEncoder\n",
        "\n",
        "# Example of label encoding\n",
        "label_encoder = LabelEncoder()\n",
        "df['Gender'] = label_encoder.fit_transform(df['Gender'])"
      ],
      "metadata": {
        "id": "6UKAEQvuScNy"
      },
      "execution_count": null,
      "outputs": []
    },
    {
      "cell_type": "code",
      "source": [
        "# Example of one-hot encoding\n",
        "df = pd.get_dummies(df, columns=['Occupation', 'MaritalStatus'])"
      ],
      "metadata": {
        "id": "Y7NVQFP5SfC2"
      },
      "execution_count": null,
      "outputs": []
    },
    {
      "cell_type": "code",
      "source": [
        "from sklearn.preprocessing import StandardScaler\n",
        "\n",
        "# Identify all numerical columns\n",
        "numerical_cols = df.select_dtypes(include=['float64', 'int64']).columns\n",
        "\n",
        "# Initialize a scaler and fit_transform the data\n",
        "scaler = StandardScaler()\n",
        "df[numerical_cols] = scaler.fit_transform(df[numerical_cols])"
      ],
      "metadata": {
        "id": "KFmNKFeNSj5D"
      },
      "execution_count": null,
      "outputs": []
    },
    {
      "cell_type": "code",
      "source": [
        "print(df.info())"
      ],
      "metadata": {
        "colab": {
          "base_uri": "https://localhost:8080/"
        },
        "id": "-5fV48BdSsST",
        "outputId": "7f04cc81-6fc5-4dc1-aa85-4ee82eea074f"
      },
      "execution_count": null,
      "outputs": [
        {
          "output_type": "stream",
          "name": "stdout",
          "text": [
            "<class 'pandas.core.frame.DataFrame'>\n",
            "RangeIndex: 18361 entries, 0 to 18360\n",
            "Data columns (total 26 columns):\n",
            " #   Column                     Non-Null Count  Dtype  \n",
            "---  ------                     --------------  -----  \n",
            " 0   CustomerID                 18361 non-null  float64\n",
            " 1   FirstName                  18361 non-null  object \n",
            " 2   MiddleName                 18361 non-null  object \n",
            " 3   LastName                   18361 non-null  object \n",
            " 4   AddressLine1               18361 non-null  object \n",
            " 5   City                       18361 non-null  object \n",
            " 6   StateProvinceName          18361 non-null  object \n",
            " 7   CountryRegionName          18361 non-null  object \n",
            " 8   PostalCode                 18361 non-null  object \n",
            " 9   PhoneNumber                18361 non-null  object \n",
            " 10  BirthDate                  18361 non-null  object \n",
            " 11  Education                  18361 non-null  object \n",
            " 12  Gender                     18361 non-null  float64\n",
            " 13  HomeOwnerFlag              18361 non-null  float64\n",
            " 14  NumberCarsOwned            18361 non-null  float64\n",
            " 15  NumberChildrenAtHome       18361 non-null  float64\n",
            " 16  TotalChildren              18361 non-null  float64\n",
            " 17  YearlyIncome               18361 non-null  float64\n",
            " 18  LastUpdated                18361 non-null  object \n",
            " 19  Occupation_Clerical        18361 non-null  bool   \n",
            " 20  Occupation_Management      18361 non-null  bool   \n",
            " 21  Occupation_Manual          18361 non-null  bool   \n",
            " 22  Occupation_Professional    18361 non-null  bool   \n",
            " 23  Occupation_Skilled Manual  18361 non-null  bool   \n",
            " 24  MaritalStatus_M            18361 non-null  bool   \n",
            " 25  MaritalStatus_S            18361 non-null  bool   \n",
            "dtypes: bool(7), float64(7), object(12)\n",
            "memory usage: 2.8+ MB\n",
            "None\n"
          ]
        }
      ]
    },
    {
      "cell_type": "code",
      "source": [
        "# Drop unnecessary columns\n",
        "df.drop(columns=['CustomerID', 'FirstName', 'LastName', 'AddressLine1', 'City', 'StateProvinceName', 'MiddleName',  'LastUpdated'], inplace=True)\n"
      ],
      "metadata": {
        "id": "BajCr33LSnam"
      },
      "execution_count": null,
      "outputs": []
    },
    {
      "cell_type": "code",
      "source": [
        "# Select numerical columns for PCA\n",
        "numerical_cols_for_pca = df.select_dtypes(include=['float64', 'int64']).columns\n",
        "X = df[numerical_cols_for_pca]\n"
      ],
      "metadata": {
        "id": "-2Obl4TmS4O_"
      },
      "execution_count": null,
      "outputs": []
    },
    {
      "cell_type": "code",
      "source": [
        "print(X)"
      ],
      "metadata": {
        "colab": {
          "base_uri": "https://localhost:8080/"
        },
        "id": "ZLQKWmMFS58p",
        "outputId": "0864e360-c725-4305-f607-f01631ae4e9d"
      },
      "execution_count": null,
      "outputs": [
        {
          "output_type": "stream",
          "name": "stdout",
          "text": [
            "         Gender  HomeOwnerFlag  NumberCarsOwned  NumberChildrenAtHome  \\\n",
            "0      0.988466       0.798603         1.892524             -0.594371   \n",
            "1      0.988466       0.798603         0.798389              1.163279   \n",
            "2     -1.011669      -1.252187         1.892524             -0.594371   \n",
            "3      0.988466       0.798603         0.798389              1.163279   \n",
            "4      0.988466       0.798603        -0.295746             -0.594371   \n",
            "...         ...            ...              ...                   ...   \n",
            "18356 -1.011669      -1.252187        -0.295746             -0.594371   \n",
            "18357 -1.011669      -1.252187         0.798389             -0.594371   \n",
            "18358 -1.011669      -1.252187         0.798389             -0.594371   \n",
            "18359 -1.011669      -1.252187        -1.389881             -0.594371   \n",
            "18360 -1.011669       0.798603         0.798389             -0.594371   \n",
            "\n",
            "       TotalChildren  YearlyIncome  \n",
            "0           0.161342      0.298555  \n",
            "1           1.239753      0.271180  \n",
            "2          -0.917069      0.444261  \n",
            "3           1.239753     -0.367401  \n",
            "4          -0.917069     -0.682765  \n",
            "...              ...           ...  \n",
            "18356       1.239753     -0.645321  \n",
            "18357      -0.917069     -0.383337  \n",
            "18358      -0.917069     -0.680973  \n",
            "18359      -0.917069      0.470006  \n",
            "18360      -0.917069      2.088996  \n",
            "\n",
            "[18361 rows x 6 columns]\n"
          ]
        }
      ]
    },
    {
      "cell_type": "code",
      "source": [
        "# Check for any remaining missing values\n",
        "print(df.isnull().sum().sum())  # Should be 0 if all missing values are handled\n"
      ],
      "metadata": {
        "colab": {
          "base_uri": "https://localhost:8080/"
        },
        "id": "f0EBxx_8TRTB",
        "outputId": "a7aa72c4-e83b-43d2-a506-8b545887e270"
      },
      "execution_count": null,
      "outputs": [
        {
          "output_type": "stream",
          "name": "stdout",
          "text": [
            "0\n"
          ]
        }
      ]
    },
    {
      "cell_type": "code",
      "source": [
        "# Check the mean and standard deviation\n",
        "print(df[numerical_cols_for_pca].mean())\n",
        "print(df[numerical_cols_for_pca].std())  # Should be close to 1\n"
      ],
      "metadata": {
        "colab": {
          "base_uri": "https://localhost:8080/"
        },
        "id": "Ww4weexSTTkb",
        "outputId": "a9d664f1-0110-49e0-bf47-0393ebe3d0e2"
      },
      "execution_count": null,
      "outputs": [
        {
          "output_type": "stream",
          "name": "stdout",
          "text": [
            "Gender                 -9.829413e-17\n",
            "HomeOwnerFlag           2.863687e-17\n",
            "NumberCarsOwned        -3.637657e-17\n",
            "NumberChildrenAtHome   -4.798611e-17\n",
            "TotalChildren          -5.108199e-17\n",
            "YearlyIncome            1.725952e-16\n",
            "dtype: float64\n",
            "Gender                  1.000027\n",
            "HomeOwnerFlag           1.000027\n",
            "NumberCarsOwned         1.000027\n",
            "NumberChildrenAtHome    1.000027\n",
            "TotalChildren           1.000027\n",
            "YearlyIncome            1.000027\n",
            "dtype: float64\n"
          ]
        }
      ]
    },
    {
      "cell_type": "markdown",
      "source": [
        "# PCA"
      ],
      "metadata": {
        "id": "OJuqP9TNWNZg"
      }
    },
    {
      "cell_type": "code",
      "source": [
        "import numpy as np\n",
        "import pandas as pd\n",
        "\n",
        "covariance_matrix = np.cov(df[numerical_cols], rowvar=False)\n",
        "\n",
        "eigenvalues, eigenvectors = np.linalg.eigh(covariance_matrix)\n",
        "\n",
        "sorted_indices = np.argsort(eigenvalues)[::-1]\n",
        "sorted_eigenvalues = eigenvalues[sorted_indices]\n",
        "sorted_eigenvectors = eigenvectors[:, sorted_indices]\n",
        "\n",
        "\n",
        "cum_variance = np.cumsum(sorted_eigenvalues) / np.sum(sorted_eigenvalues)\n",
        "print(\"Cumulative Variance :\", cum_variance)\n",
        "\n",
        "# threshold 95%\n",
        "k = np.argmax(cum_variance >= 0.95) + 1\n",
        "print(f\"Number of components chosen (k): {k}\")\n",
        "\n",
        "principal_components = sorted_eigenvectors[:, :k]\n",
        "\n",
        "df_pca = np.dot(df[numerical_cols], principal_components)\n",
        "\n",
        "df_pca = pd.DataFrame(df_pca, columns=[f'PC{i+1}' for i in range(k)])\n",
        "\n",
        "print(df_pca.head())\n"
      ],
      "metadata": {
        "colab": {
          "base_uri": "https://localhost:8080/"
        },
        "id": "Ks-E6F9ZWOwB",
        "outputId": "d6114877-fc1f-4950-e7d6-40e4f63f5534"
      },
      "execution_count": null,
      "outputs": [
        {
          "output_type": "stream",
          "name": "stdout",
          "text": [
            "Cumulative Variance : [0.35810848 0.60414802 0.77066763 0.87320118 0.95169678 1.        ]\n",
            "Number of components chosen (k): 5\n",
            "        PC1       PC2       PC3       PC4       PC5\n",
            "0 -0.838919  1.502465  1.021986  0.369546 -1.224593\n",
            "1 -1.994248 -0.172553  0.940672  0.548760 -0.123340\n",
            "2  0.926405  1.916773 -0.914402  1.445077 -0.209012\n",
            "3 -1.807963 -0.569817  0.937365  0.734776 -0.506469\n",
            "4  0.583287 -0.072840  0.983990 -0.706883 -0.609210\n"
          ]
        }
      ]
    },
    {
      "cell_type": "code",
      "source": [
        "print(df_pca.info())"
      ],
      "metadata": {
        "colab": {
          "base_uri": "https://localhost:8080/"
        },
        "id": "viVdY2vkYdc9",
        "outputId": "37dd0559-b0ea-40ab-9dec-7869a96dc8c7"
      },
      "execution_count": null,
      "outputs": [
        {
          "output_type": "stream",
          "name": "stdout",
          "text": [
            "<class 'pandas.core.frame.DataFrame'>\n",
            "RangeIndex: 18361 entries, 0 to 18360\n",
            "Data columns (total 5 columns):\n",
            " #   Column  Non-Null Count  Dtype  \n",
            "---  ------  --------------  -----  \n",
            " 0   PC1     18361 non-null  float64\n",
            " 1   PC2     18361 non-null  float64\n",
            " 2   PC3     18361 non-null  float64\n",
            " 3   PC4     18361 non-null  float64\n",
            " 4   PC5     18361 non-null  float64\n",
            "dtypes: float64(5)\n",
            "memory usage: 717.4 KB\n",
            "None\n"
          ]
        }
      ]
    },
    {
      "cell_type": "markdown",
      "source": [
        "# PCA Using Inbuilt Function"
      ],
      "metadata": {
        "id": "pcDucFgMbNUb"
      }
    },
    {
      "cell_type": "code",
      "source": [
        "import pandas as pd\n",
        "from sklearn.preprocessing import StandardScaler\n",
        "from sklearn.decomposition import PCA\n",
        "\n",
        "numerical_cols = df.select_dtypes(include=['float64', 'int64']).columns\n",
        "scaler = StandardScaler()\n",
        "df_standardized = scaler.fit_transform(df[numerical_cols])\n",
        "\n",
        "pca = PCA(n_components=0.95)  # retain 95%\n",
        "\n",
        "pca.fit(df_standardized)\n",
        "\n",
        "df_pca = pca.transform(df_standardized)\n",
        "\n",
        "# Convert the result to a DataFrame for easier handling\n",
        "df_pca = pd.DataFrame(df_pca, columns=[f'PC{i+1}' for i in range(df_pca.shape[1])])\n",
        "\n",
        "# Display the first few rows of the transformed data\n",
        "print(df_pca.head())\n",
        "\n",
        "# # Additional outputs\n",
        "# print(\"Explained Variance Ratio:\", pca.explained_variance_ratio_)\n",
        "# print(\"Total Variance Explained:\", np.sum(pca.explained_variance_ratio_))\n",
        "# print(\"Principal Components:\\n\", pca.components_)\n"
      ],
      "metadata": {
        "colab": {
          "base_uri": "https://localhost:8080/"
        },
        "id": "aa2-dJP9bba_",
        "outputId": "c3adce47-a70e-49f2-e023-be596bafe59f"
      },
      "execution_count": null,
      "outputs": [
        {
          "output_type": "stream",
          "name": "stdout",
          "text": [
            "        PC1       PC2       PC3       PC4       PC5\n",
            "0  0.838919  1.502465 -1.021986  0.369546 -1.224593\n",
            "1  1.994248 -0.172553 -0.940672  0.548760 -0.123340\n",
            "2 -0.926405  1.916773  0.914402  1.445077 -0.209012\n",
            "3  1.807963 -0.569817 -0.937365  0.734776 -0.506469\n",
            "4 -0.583287 -0.072840 -0.983990 -0.706883 -0.609210\n"
          ]
        }
      ]
    }
  ]
}